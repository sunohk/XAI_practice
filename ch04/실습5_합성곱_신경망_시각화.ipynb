{
 "cells": [
  {
   "cell_type": "code",
   "execution_count": 1,
   "metadata": {},
   "outputs": [
    {
     "name": "stdout",
     "output_type": "stream",
     "text": [
      "(28, 28, 1)\n",
      "[0. 0. 0. 0. 0. 0. 0. 1. 0. 0.]\n",
      "7\n"
     ]
    },
    {
     "data": {
      "image/png": "[encoded data removed]",
      "text/plain": [
       "<Figure size 640x480 with 1 Axes>"
      ]
     },
     "metadata": {},
     "output_type": "display_data"
    }
   ],
   "source": [
    "import numpy as np\n",
    "import matplotlib.pyplot as plt\n",
    "%matplotlib inline\n",
    "\n",
    "import tensorflow as tf\n",
    "from tensorflow.keras import layers, models\n",
    "from tensorflow.keras.datasets import mnist\n",
    "from tensorflow.keras.utils import to_categorical\n",
    "\n",
    "# Load MNIST dataset\n",
    "(x_train, y_train), (x_test, y_test) = mnist.load_data()\n",
    "x_train = x_train.reshape(-1, 28, 28, 1).astype('float32') / 255.0  # Normalize to [0, 1]\n",
    "x_test = x_test.reshape(-1, 28, 28, 1).astype('float32') / 255.0    # Normalize to [0, 1]\n",
    "y_train = to_categorical(y_train, num_classes=10)  # One-hot encoding\n",
    "y_test = to_categorical(y_test, num_classes=10)      # One-hot encoding\n",
    "\n",
    "# Select an image index to display\n",
    "index = 0 \n",
    "\n",
    "# Use the test dataset directly\n",
    "imageToUse = x_test[index]\n",
    "imageLabel = y_test[index]\n",
    "\n",
    "print(imageToUse.shape)  # Should print (28, 28, 1)\n",
    "print(imageLabel)\n",
    "print(np.argmax(imageLabel))  # Prints the label as a number\n",
    "\n",
    "# Display the image\n",
    "plt.imshow(np.reshape(imageToUse, [28, 28]), interpolation='nearest', cmap='gray')\n",
    "plt.title(f\"Label: {np.argmax(imageLabel)}\")  # Display the corresponding label\n",
    "plt.axis('off')  # Hide the axes\n",
    "plt.show()\n"
   ]
  },
  {
   "cell_type": "code",
   "execution_count": 2,
   "metadata": {},
   "outputs": [
    {
     "name": "stderr",
     "output_type": "stream",
     "text": [
      "2024-09-29 15:43:15.140894: I metal_plugin/src/device/metal_device.cc:1154] Metal device set to: Apple M3 Pro\n",
      "2024-09-29 15:43:15.140909: I metal_plugin/src/device/metal_device.cc:296] systemMemory: 18.00 GB\n",
      "2024-09-29 15:43:15.140914: I metal_plugin/src/device/metal_device.cc:313] maxCacheSize: 6.00 GB\n",
      "2024-09-29 15:43:15.140937: I tensorflow/core/common_runtime/pluggable_device/pluggable_device_factory.cc:303] Could not identify NUMA node of platform GPU ID 0, defaulting to 0. Your kernel may not have been built with NUMA support.\n",
      "2024-09-29 15:43:15.140949: I tensorflow/core/common_runtime/pluggable_device/pluggable_device_factory.cc:269] Created TensorFlow device (/job:localhost/replica:0/task:0/device:GPU:0 with 0 MB memory) -> physical PluggableDevice (device: 0, name: METAL, pci bus id: <undefined>)\n",
      "2024-09-29 15:43:15.397771: I tensorflow/core/grappler/optimizers/custom_graph_optimizer_registry.cc:114] Plugin optimizer for device_type GPU is enabled.\n"
     ]
    },
    {
     "name": "stdout",
     "output_type": "stream",
     "text": [
      "Loaded model training accuracy: 0.9937\n"
     ]
    }
   ],
   "source": [
    "from tensorflow.keras.models import load_model\n",
    "\n",
    "model = load_model('mnist_model.h5')\n",
    "loaded_train_accuracy = model.evaluate(x_train, y_train, verbose=0)[1]\n",
    "print(\"Loaded model training accuracy: %.4f\" % loaded_train_accuracy)"
   ]
  },
  {
   "cell_type": "code",
   "execution_count": 3,
   "metadata": {},
   "outputs": [
    {
     "name": "stdout",
     "output_type": "stream",
     "text": [
      "1/1 [==============================] - 0s 56ms/step\n",
      "[7]\n"
     ]
    },
    {
     "name": "stderr",
     "output_type": "stream",
     "text": [
      "2024-09-29 15:43:24.286926: I tensorflow/core/grappler/optimizers/custom_graph_optimizer_registry.cc:114] Plugin optimizer for device_type GPU is enabled.\n"
     ]
    }
   ],
   "source": [
    "image_in = np.reshape(imageToUse, [1, 28, 28, 1])\n",
    "predict = model.predict(image_in)\n",
    "predicted_class = np.argmax(predict, axis=1)\n",
    "print(predicted_class)"
   ]
  },
  {
   "cell_type": "code",
   "execution_count": 4,
   "metadata": {},
   "outputs": [
    {
     "name": "stdout",
     "output_type": "stream",
     "text": [
      "True label :  7\n",
      "Predicted label :  7\n",
      "Match :  True\n"
     ]
    }
   ],
   "source": [
    "print(\"True label : \", imageLabel.argmax())\n",
    "print(\"Predicted label : \", predicted_class[0])\n",
    "print(\"Match : \", predicted_class[0]== imageLabel.argmax())"
   ]
  },
  {
   "cell_type": "code",
   "execution_count": 5,
   "metadata": {},
   "outputs": [
    {
     "name": "stdout",
     "output_type": "stream",
     "text": [
      "(28, 28, 1)\n",
      "[0. 0. 1. 0. 0. 0. 0. 0. 0. 0.]\n",
      "2\n"
     ]
    },
    {
     "data": {
      "text/plain": [
       "<matplotlib.image.AxesImage at 0x1633bab50>"
      ]
     },
     "execution_count": 5,
     "metadata": {},
     "output_type": "execute_result"
    },
    {
     "data": {
      "image/png": "[encoded data removed]",
      "text/plain": [
       "<Figure size 640x480 with 1 Axes>"
      ]
     },
     "metadata": {},
     "output_type": "display_data"
    }
   ],
   "source": [
    "# Select an image index to display\n",
    "index = 924\n",
    "\n",
    "# Use the test dataset directly\n",
    "imageToUse = x_test[index]\n",
    "imageLabel = y_test[index]\n",
    "\n",
    "print(imageToUse.shape)  # Should print (28, 28, 1)\n",
    "print(imageLabel)\n",
    "print(np.argmax(imageLabel))  # Prints the label as a number\n",
    "\n",
    "# Display the image\n",
    "plt.imshow(np.reshape(imageToUse, [28, 28]), interpolation='nearest', cmap='gray')"
   ]
  },
  {
   "cell_type": "code",
   "execution_count": 6,
   "metadata": {},
   "outputs": [
    {
     "name": "stdout",
     "output_type": "stream",
     "text": [
      "1/1 [==============================] - 0s 9ms/step\n",
      "[2]\n"
     ]
    }
   ],
   "source": [
    "image_in = np.reshape(imageToUse, [1, 28, 28, 1])\n",
    "predict = model.predict(image_in)\n",
    "predicted_class = np.argmax(predict, axis=1)\n",
    "print(predicted_class)"
   ]
  },
  {
   "cell_type": "code",
   "execution_count": 7,
   "metadata": {},
   "outputs": [
    {
     "name": "stdout",
     "output_type": "stream",
     "text": [
      "True label :  2\n",
      "Predicted label :  2\n",
      "Match :  True\n"
     ]
    }
   ],
   "source": [
    "print(\"True label : \", imageLabel.argmax())\n",
    "print(\"Predicted label : \", predicted_class[0])\n",
    "print(\"Match : \", predicted_class[0]== imageLabel.argmax())"
   ]
  },
  {
   "cell_type": "code",
   "execution_count": 8,
   "metadata": {},
   "outputs": [
    {
     "name": "stdout",
     "output_type": "stream",
     "text": [
      "1/1 [==============================] - 0s 17ms/step\n",
      "[0] 0.00%\n",
      "[1] 0.22%\n",
      "[2] 86.82%\n",
      "[3] 10.73%\n",
      "[4] 0.00%\n",
      "[5] 0.02%\n",
      "[6] 0.00%\n",
      "[7] 1.94%\n",
      "[8] 0.26%\n",
      "[9] 0.00%\n"
     ]
    }
   ],
   "source": [
    "# Get the 924th test image\n",
    "index = 924\n",
    "image_in = x_test[index:index + 1]  # Reshape to match model input shape\n",
    "\n",
    "# Get the prediction probabilities\n",
    "mat = model.predict(image_in)[0]  # Get the prediction for the specific image\n",
    "\n",
    "# Display the probabilities for each class\n",
    "for count, probability in enumerate(mat):\n",
    "    print('[{}] {:.2f}%'.format(count, probability * 100))  # Print class index and probability\n"
   ]
  },
  {
   "cell_type": "code",
   "execution_count": 15,
   "metadata": {},
   "outputs": [
    {
     "name": "stdout",
     "output_type": "stream",
     "text": [
      "x-in\n",
      "conv2d_12\n",
      "max_pooling2d_11\n",
      "conv2d_13\n",
      "max_pooling2d_12\n",
      "conv2d_14\n",
      "max_pooling2d_13\n",
      "flatten_3\n",
      "dense_3\n"
     ]
    }
   ],
   "source": [
    "for layer in model.layers:\n",
    "    print(layer.name)"
   ]
  },
  {
   "cell_type": "code",
   "execution_count": 14,
   "metadata": {},
   "outputs": [
    {
     "name": "stdout",
     "output_type": "stream",
     "text": [
      "1/1 [==============================] - 0s 20ms/step\n"
     ]
    },
    {
     "name": "stderr",
     "output_type": "stream",
     "text": [
      "2024-09-29 15:45:44.613855: I tensorflow/core/grappler/optimizers/custom_graph_optimizer_registry.cc:114] Plugin optimizer for device_type GPU is enabled.\n"
     ]
    },
    {
     "data": {
      "image/png": "[encoded data removed]",
      "text/plain": [
       "<Figure size 2000x2000 with 5 Axes>"
      ]
     },
     "metadata": {},
     "output_type": "display_data"
    }
   ],
   "source": [
    "import numpy as np\n",
    "import tensorflow as tf\n",
    "import matplotlib.pyplot as plt\n",
    "import math\n",
    "\n",
    "def plotNNFilter(units):\n",
    "    filters = units.shape[-1]  # 마지막 차원에서 필터 수 얻기\n",
    "    plt.figure(figsize=(20, 20))\n",
    "    n_columns = 5\n",
    "    n_rows = math.ceil(filters / n_columns)\n",
    "    \n",
    "    for i in range(filters):\n",
    "        plt.subplot(n_rows, n_columns, i + 1)\n",
    "        plt.title('Filter ' + str(i))\n",
    "        plt.imshow(units[0, :, :, i], interpolation=\"nearest\", cmap='gray')\n",
    "        plt.axis('off')  # 축 제거\n",
    "\n",
    "    plt.show()  # 그래프 출력\n",
    "\n",
    "def get_activations(layer_name, stimuli):\n",
    "    # Stimuli를 올바른 형태로 reshape\n",
    "    image_in = np.reshape(stimuli, [1, 28, 28, 1])  # 28x28 이미지로 reshape\n",
    "\n",
    "    # 지정된 레이어의 출력을 포함하는 중간 모델 생성\n",
    "    intermediate_model = tf.keras.Model(inputs=model.input, outputs=model.get_layer(layer_name).output)\n",
    "\n",
    "    # 중간 모델을 사용하여 활성화 값 얻기\n",
    "    units = intermediate_model.predict(image_in)\n",
    "\n",
    "    # 필터/활성화를 플로팅\n",
    "    plotNNFilter(units)  # 필터 시각화 함수 호출\n",
    "\n",
    "# 사용 예시\n",
    "get_activations('conv2d_12', imageToUse)  # 'conv2d_12' 레이어의 활성화 시각화\n"
   ]
  },
  {
   "cell_type": "code",
   "execution_count": 16,
   "metadata": {},
   "outputs": [
    {
     "name": "stdout",
     "output_type": "stream",
     "text": [
      "1/1 [==============================] - 0s 84ms/step\n"
     ]
    },
    {
     "name": "stderr",
     "output_type": "stream",
     "text": [
      "2024-09-29 15:46:23.956922: I tensorflow/core/grappler/optimizers/custom_graph_optimizer_registry.cc:114] Plugin optimizer for device_type GPU is enabled.\n"
     ]
    },
    {
     "data": {
      "image/png": "[encoded data removed]",
      "text/plain": [
       "<Figure size 2000x2000 with 5 Axes>"
      ]
     },
     "metadata": {},
     "output_type": "display_data"
    }
   ],
   "source": [
    "get_activations('conv2d_13', imageToUse)  # 'conv2d_12' 레이어의 활성화 시각화"
   ]
  },
  {
   "cell_type": "code",
   "execution_count": 17,
   "metadata": {},
   "outputs": [
    {
     "name": "stdout",
     "output_type": "stream",
     "text": [
      "WARNING:tensorflow:5 out of the last 7 calls to <function Model.make_predict_function.<locals>.predict_function at 0x16a2ead30> triggered tf.function retracing. Tracing is expensive and the excessive number of tracings could be due to (1) creating @tf.function repeatedly in a loop, (2) passing tensors with different shapes, (3) passing Python objects instead of tensors. For (1), please define your @tf.function outside of the loop. For (2), @tf.function has reduce_retracing=True option that can avoid unnecessary retracing. For (3), please refer to https://www.tensorflow.org/guide/function#controlling_retracing and https://www.tensorflow.org/api_docs/python/tf/function for  more details.\n",
      "1/1 [==============================] - 0s 53ms/step\n"
     ]
    },
    {
     "name": "stderr",
     "output_type": "stream",
     "text": [
      "2024-09-29 15:46:34.630880: I tensorflow/core/grappler/optimizers/custom_graph_optimizer_registry.cc:114] Plugin optimizer for device_type GPU is enabled.\n"
     ]
    },
    {
     "data": {
      "image/png": "[encoded data removed]",
      "text/plain": [
       "<Figure size 2000x2000 with 20 Axes>"
      ]
     },
     "metadata": {},
     "output_type": "display_data"
    }
   ],
   "source": [
    "get_activations('conv2d_14', imageToUse)  # 'conv2d_12' 레이어의 활성화 시각화"
   ]
  },
  {
   "cell_type": "code",
   "execution_count": null,
   "metadata": {},
   "outputs": [],
   "source": []
  }
 ],
 "metadata": {
  "kernelspec": {
   "display_name": "tensor_test",
   "language": "python",
   "name": "python3"
  },
  "language_info": {
   "codemirror_mode": {
    "name": "ipython",
    "version": 3
   },
   "file_extension": ".py",
   "mimetype": "text/x-python",
   "name": "python",
   "nbconvert_exporter": "python",
   "pygments_lexer": "ipython3",
   "version": "3.8.16"
  }
 },
 "nbformat": 4,
 "nbformat_minor": 2
}
